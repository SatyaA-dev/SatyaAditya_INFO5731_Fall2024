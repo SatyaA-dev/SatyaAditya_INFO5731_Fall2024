{
  "cells": [
    {
      "cell_type": "markdown",
      "metadata": {
        "id": "view-in-github",
        "colab_type": "text"
      },
      "source": [
        "<a href=\"https://colab.research.google.com/github/SatyaA-dev/SatyaAditya_INFO5731_Fall2024/blob/main/Masimukku_SatyaAditya_Assignment_1.ipynb\" target=\"_parent\"><img src=\"https://colab.research.google.com/assets/colab-badge.svg\" alt=\"Open In Colab\"/></a>"
      ]
    },
    {
      "cell_type": "markdown",
      "metadata": {
        "id": "Ryk8D1Q4Wsrp"
      },
      "source": [
        "# **INFO5731 Assignment One**"
      ]
    },
    {
      "cell_type": "markdown",
      "source": [
        "This assignment includes range of programming tasks and data analysis exercises, aiming to enhance your Python skills and proficiency in string manipulation, numerical computations, and data science. Follow the instructions carefully and design well-structured Python programs to address each question.\n",
        "\n",
        "Late Submission will have a penalty of 10% reduction for each day after the deadline."
      ],
      "metadata": {
        "id": "qcP6re2g5A5r"
      }
    },
    {
      "cell_type": "markdown",
      "metadata": {
        "id": "JkzR8cFAyGik"
      },
      "source": [
        "# Question 1 (10 points).\n",
        "\n",
        "The formula that describes the volume V of a hemisphere with radius r is the following:\n",
        "\n",
        "$ V=\\frac{2}{3}\\ast\\ \\pi\\ast\\ r^3 $\n",
        "\n",
        "Write a program to calculate the value of V when r is in the range of even numbers from 1-20. Output the result in the following format:\n",
        "\n",
        "\tr\tV\n",
        "\t2\t…\n",
        "\t4\t…\n",
        "\t6\t…\n",
        "\t.\n",
        "\t.\n",
        "\t.\n",
        "\t20\t…\n"
      ]
    },
    {
      "cell_type": "code",
      "execution_count": 23,
      "metadata": {
        "id": "jDyTKYs-yGit",
        "colab": {
          "base_uri": "https://localhost:8080/"
        },
        "outputId": "3a5143d9-5c77-47e3-8e93-ff3b489fa8c5"
      },
      "outputs": [
        {
          "output_type": "stream",
          "name": "stdout",
          "text": [
            "r    V\n",
            "2    16.755160819145562\n",
            "4    134.0412865531645\n",
            "6    452.38934211693015\n",
            "8    1072.330292425316\n",
            "10    2094.3951023931954\n",
            "12    3619.114736935441\n",
            "14    5747.0201609669275\n",
            "16    8578.642339402528\n",
            "18    12214.512237157114\n",
            "20    16755.160819145563\n"
          ]
        }
      ],
      "source": [
        "# Your code here\n",
        "pi=3.1415926535897931\n",
        "\n",
        "def volume(r):\n",
        "    return (2/3) * pi * r**3\n",
        "\n",
        "volumes = [(r, volume(r)) for r in range(2, 21, 2)]\n",
        "\n",
        "print(\"r    V\")\n",
        "for r, V in volumes:\n",
        "    print(f\"{r}    {V}\")\n",
        "\n",
        "\n"
      ]
    },
    {
      "cell_type": "markdown",
      "metadata": {
        "id": "90_NR8c5XGWc"
      },
      "source": [
        "# Question 2 (20 points)\n",
        "\n",
        "(a) Write a Python program to generate a sequence of 12 random numbers falling within the range of 50 to 150.\n",
        "\n",
        "(b) Arrange the generated numbers in ascending order. Display the sorted list.\n",
        "\n",
        "(c) Extend the program to arrange the numbers in descending order as well. Present the sorted list accordingly.\n",
        "\n",
        "(d) Compute and output the average of the entire group of generated numbers.\n",
        "\n",
        "(e) Enhance the program to calculate and display the average of the first 6 numbers from both the ascending and descending sorted lists."
      ]
    },
    {
      "cell_type": "code",
      "execution_count": 21,
      "metadata": {
        "id": "5QX6bJjGWXY9",
        "colab": {
          "base_uri": "https://localhost:8080/"
        },
        "outputId": "8db5fdff-6cdb-40fd-a48f-737c3ddede54"
      },
      "outputs": [
        {
          "output_type": "stream",
          "name": "stdout",
          "text": [
            "random_list: [85, 144, 142, 105, 116, 56, 85, 54, 139, 127, 71, 68]\n",
            "Ascending order: [54, 56, 68, 71, 85, 85, 105, 116, 127, 139, 142, 144]\n",
            "Descending order of the list: [144, 142, 139, 127, 116, 105, 85, 85, 71, 68, 56, 54]\n",
            "Average of generated numbers: 99.33333333333333\n",
            "Average of first six numbers in ascending list: 69.83333333333333\n",
            "Average of first six numbers in ascending list: 128.83333333333334\n"
          ]
        }
      ],
      "source": [
        "# Write code for each of the sub parts with proper comments.\n",
        "import random\n",
        "rand_Number= [random.randrange(50,150) for i in range(12)]\n",
        "print (\"random_list:\", rand_Number)\n",
        "\n",
        "asc_list=sorted(rand_Number)\n",
        "print(\"Ascending order:\", asc_list)\n",
        "\n",
        "desc_list=sorted(rand_Number,reverse=True)\n",
        "print(\"Descending order of the list:\",desc_list)\n",
        "\n",
        "sumofList= sum(rand_Number)\n",
        "print(\"Average of generated numbers:\", sumofList/12)\n",
        "\n",
        "print(\"Average of first six numbers in ascending list:\", sum(asc_list[0:6])/6)\n",
        "print(\"Average of first six numbers in ascending list:\", sum(desc_list[0:6])/6)\n",
        "\n",
        "\n"
      ]
    },
    {
      "cell_type": "markdown",
      "source": [],
      "metadata": {
        "id": "emUp9ylifJkI"
      }
    },
    {
      "cell_type": "markdown",
      "metadata": {
        "id": "1F_PZdH9Sh49"
      },
      "source": [
        "# Question 3 (20 points).\n",
        "\n",
        "Create a Python program that encompasses various string manipulation task:\n",
        "\n",
        "(a) Prompt the user to input two sentences.\n",
        "\n",
        "(b) Transform each sentence into a list, where each element corresponds to a word in the sentence. For example, if the sentences are \"Hello, how are you doing today?\" and \"This is an example sentence for the program!\"\n",
        "\n",
        "The program should output:\n",
        "['Hello', ',', 'how', 'are', 'you', 'doing', 'today', '?', 'This', 'is', 'an', 'example', 'sentence', 'for', 'the', 'program', '!']\n",
        "\n",
        "(c) Compare the two sentences. Print out a list of words that occur in both sentences.\n",
        "\n",
        "(d) Remove any punctuation from the sentence and print the sanitized sentences. It should remove at least the following characters, but it can remove more: period(“.”), comma (“,”), semicolon (“;”), and colon (“:”).\n",
        "\n",
        "(e) Count the number of vowels in each of the sentences. Print out each vowel and the occurrences  in the each of the two sentences separately, such as:\n",
        "\n",
        "Sentence1: a:2, e:2, i:0, etc.\n",
        "Sentence2: a:1, e:2, i:2, etc.\n",
        "\n",
        "Design a well-structured Python program to execute these tasks efficiently."
      ]
    },
    {
      "cell_type": "code",
      "source": [
        "s1= input('Enter the string:')\n",
        "\n",
        "#I tried inputting a string but it keeps throwing this error. help me with this"
      ],
      "metadata": {
        "colab": {
          "base_uri": "https://localhost:8080/",
          "height": 176
        },
        "id": "wjstzOcSeaOe",
        "outputId": "daf0626d-0c44-443a-83ab-e2e7de5268ff"
      },
      "execution_count": 41,
      "outputs": [
        {
          "output_type": "error",
          "ename": "TypeError",
          "evalue": "'NoneType' object is not callable",
          "traceback": [
            "\u001b[0;31m---------------------------------------------------------------------------\u001b[0m",
            "\u001b[0;31mTypeError\u001b[0m                                 Traceback (most recent call last)",
            "\u001b[0;32m<ipython-input-41-5519fd87046b>\u001b[0m in \u001b[0;36m<cell line: 1>\u001b[0;34m()\u001b[0m\n\u001b[0;32m----> 1\u001b[0;31m \u001b[0ms1\u001b[0m\u001b[0;34m=\u001b[0m \u001b[0minput\u001b[0m\u001b[0;34m(\u001b[0m\u001b[0;34m'Enter the string:'\u001b[0m\u001b[0;34m)\u001b[0m\u001b[0;34m\u001b[0m\u001b[0;34m\u001b[0m\u001b[0m\n\u001b[0m\u001b[1;32m      2\u001b[0m \u001b[0;34m\u001b[0m\u001b[0m\n\u001b[1;32m      3\u001b[0m \u001b[0;31m#I tried inputting a string but it keeps throwing this error. help me with this\u001b[0m\u001b[0;34m\u001b[0m\u001b[0;34m\u001b[0m\u001b[0m\n",
            "\u001b[0;31mTypeError\u001b[0m: 'NoneType' object is not callable"
          ]
        }
      ]
    },
    {
      "cell_type": "code",
      "source": [
        "import string\n",
        "\n",
        "s1= \"Hello, how are you doing today?\"\n",
        "s2= \"how This is an example sentence for the program!\"\n",
        "\n",
        "s3= s1+\" \"+s2\n",
        "\n",
        "print (s3)\n",
        "\n",
        "list= s3.split()\n",
        "print(list)\n",
        "\n",
        "st1= s1.translate(str.maketrans('', '', string.punctuation)).split()\n",
        "st2= s2.translate(str.maketrans('', '', string.punctuation)).split()\n",
        "\n",
        "print(f\"st1:{st1}, st2:{st2}\")\n",
        "\n",
        "for i in range(len(st1)):\n",
        "  for j in range(len(st2)):\n",
        "    if st1[i] == st2[j]:\n",
        "      print(\"Matching words form both sentences: \",st1[i])\n",
        "      j=+1\n",
        "  i=+1\n",
        "\n",
        "def vowel_counter(v1):\n",
        "  n_str1=\"\"\n",
        "  for i in range(len(v1)):\n",
        "    n_str1=n_str1+v1[i]\n",
        "    i=+1\n",
        "\n",
        "  ref_string= \"aeiou\"\n",
        "  count = 0\n",
        "  for charact in ref_string:\n",
        "    count= n_str1.count(charact)\n",
        "    if count>0:\n",
        "      print(f\"{charact}:{count}\")\n",
        "\n",
        "print(\"Number of vowels in the first sentence:\")\n",
        "vowel_counter(st1)\n",
        "print(\"Number of vowels in the second sentence:\")\n",
        "vowel_counter(st2)\n",
        "\n",
        "\n"
      ],
      "metadata": {
        "colab": {
          "base_uri": "https://localhost:8080/"
        },
        "id": "4HpvLPEee2TY",
        "outputId": "45bc693a-ace0-49ab-8779-c3f1281adcf1"
      },
      "execution_count": 101,
      "outputs": [
        {
          "output_type": "stream",
          "name": "stdout",
          "text": [
            "Hello, how are you doing today? how This is an example sentence for the program!\n",
            "['Hello,', 'how', 'are', 'you', 'doing', 'today?', 'how', 'This', 'is', 'an', 'example', 'sentence', 'for', 'the', 'program!']\n",
            "st1:['Hello', 'how', 'are', 'you', 'doing', 'today'], st2:['how', 'This', 'is', 'an', 'example', 'sentence', 'for', 'the', 'program']\n",
            "Matching words form both sentences:  how\n",
            "Number of vowels in the first sentence:\n",
            "a:2\n",
            "e:2\n",
            "i:1\n",
            "o:5\n",
            "u:1\n",
            "Number of vowels in the second sentence:\n",
            "a:3\n",
            "e:6\n",
            "i:2\n",
            "o:3\n"
          ]
        }
      ]
    },
    {
      "cell_type": "markdown",
      "source": [
        "# Question 4 (20 Points)"
      ],
      "metadata": {
        "id": "OP4-5qxAtInv"
      }
    },
    {
      "cell_type": "markdown",
      "source": [
        "Design and implement a simple command-line calculator program. The program should handle both integers and floating-point numbers.\n",
        "\n",
        "(a) Write program that takes a mathematical expression as input and evaluates it. The program should support addition, subtraction, multiplication, and division.\n",
        "\n",
        "(b) Extend the calculator to handle parentheses in mathematical expressions. Implement the necessary logic to evaluate expressions with nested parentheses.\n",
        "\n",
        "(c) Enhance your calculator to include additional mathematical operations such as exponentiation, square root, and modulus.\n",
        "\n",
        "(d) Implement error handling in the calculator program. Handle cases such as division by zero and invalid input expressions. Provide meaningful error messages.\n",
        "\n",
        "(e) Implement a command to exit the calculator."
      ],
      "metadata": {
        "id": "uzN4_hDptK9U"
      }
    },
    {
      "cell_type": "code",
      "source": [
        "# Your code here\n",
        "import math\n",
        "\n",
        "def eval_expr(expression):\n",
        "    try:\n",
        "        expression = expression.replace(\"sqrt\", \"math.sqrt\")\n",
        "        result = eval(expression)\n",
        "        return result\n",
        "    except ZeroDivisionError:\n",
        "        return \"Error: Division by zero is not allowed.\"\n",
        "    except Exception as e:\n",
        "        return f\"Error: Invalid expression ({str(e)})\"\n",
        "\n",
        "def calculator():\n",
        "    while True:\n",
        "        expression = input(\"Enter a mathematical expression: \")\n",
        "        if expression.lower() == \"exit\":\n",
        "            print(\"Exiting the calculator.\")\n",
        "            break\n",
        "        result = eval_expr(expression)\n",
        "        print(f\"Result: {result}\")\n",
        "\n",
        "# Run the calculator program\n",
        "calculator()\n",
        "\n"
      ],
      "metadata": {
        "id": "8nQnVxjJuYtu"
      },
      "execution_count": null,
      "outputs": []
    },
    {
      "cell_type": "markdown",
      "metadata": {
        "id": "z3tBE7E-Xn5X"
      },
      "source": [
        "# Question 5 (30 points).\n",
        "\n",
        "In the field of Data Science, data is often formatted as a comma-delimited (CSV) file, where each line in a file corresponds to a field's value. Refer to Chapter 9 (p. 106) for more information on comma-delimited files.\n",
        "\n",
        "To answer this question, you will need to download the file [Assignment1_denton_housing.csv](https://raw.githubusercontent.com/unt-iialab/info5731-spring2022/main/assignments/Assignment1_denton_housing.csv) included with this assignment. The file contains statistics about housing in the city of Denton from 2008 to 2014. Write a program to implement the following questions.\n",
        "\n",
        "(a) (5 pts) Calculate the difference in the number of Occupied Housing Units from year to year and print it. The difference must be calculated for the consecutive years such as 2008-2009, 2009-2010 etc. Finally, print the values in the ascending order.\n",
        "\n",
        "(b) (5 pts) For all the years, calculate the percentage of housing units which are vacant an occupied. Print the results in the following format:\n",
        "\n",
        "Year Vacant Housing Units Occupied Housing Units\n",
        "\n",
        "    2008  30%   70%                          \n",
        "\t2009 ----- -----\n",
        "\t2010 ----- -----\n",
        "    2011 ----- -----\n",
        "\t2012 ----- -----\n",
        "    2013 ----- -----\n",
        "\t2014 ----- -----\n",
        "  \n",
        "  \n",
        "\n",
        "(c) (10 pts) Calculate and print the valued and years in which the highest number of housing units were vacant and occupied. Print the results in the following format:  \n",
        "\n",
        "                              Year\tValue\n",
        "\tVacant Housing Units\t  -----   -----\n",
        "\tOccupied Housing Units\t-----   -----\n",
        "\n",
        "(d) (10 pts) Calculate the harmonic mean of the total housing units and print it out. You can find the information about harmonic mean here: https://ncalculators.com/statistics/harmonic-mean-calculator.htm"
      ]
    },
    {
      "cell_type": "code",
      "execution_count": 242,
      "metadata": {
        "id": "lqGYuHBhcsRH",
        "colab": {
          "base_uri": "https://localhost:8080/",
          "height": 558
        },
        "outputId": "04d9fbed-576f-4c0a-d9b5-af15cea8f974"
      },
      "outputs": [
        {
          "output_type": "stream",
          "name": "stdout",
          "text": [
            "                 title_field  value\n",
            "year                               \n",
            "2008  Occupied Housing Units  36711\n",
            "2009  Occupied Housing Units  35916\n",
            "2010  Occupied Housing Units  41007\n",
            "2011  Occupied Housing Units  40704\n",
            "2012  Occupied Housing Units  42108\n",
            "2013  Occupied Housing Units  43673\n",
            "2014  Occupied Housing Units  46295\n",
            "The difference in value of occupied houses with respect to next year: [795, -5091, 303, -1404, -1565, -2622]\n",
            "               title_field  value\n",
            "year                             \n",
            "2014  Vacant Housing Units   2814\n",
            "2013  Vacant Housing Units   4215\n",
            "2012  Vacant Housing Units   3013\n",
            "2011  Vacant Housing Units   4213\n",
            "2010  Vacant Housing Units   3635\n",
            "2009  Vacant Housing Units   3583\n",
            "2008  Vacant Housing Units   4483\n",
            "{2014: 2814, 2013: 4215, 2012: 3013, 2011: 4213, 2010: 3635, 2009: 3583, 2008: 4483}\n"
          ]
        },
        {
          "output_type": "error",
          "ename": "TypeError",
          "evalue": "'int' object is not callable",
          "traceback": [
            "\u001b[0;31m---------------------------------------------------------------------------\u001b[0m",
            "\u001b[0;31mTypeError\u001b[0m                                 Traceback (most recent call last)",
            "\u001b[0;32m<ipython-input-242-38895044093d>\u001b[0m in \u001b[0;36m<cell line: 28>\u001b[0;34m()\u001b[0m\n\u001b[1;32m     26\u001b[0m \u001b[0mgreatest_value1\u001b[0m\u001b[0;34m=\u001b[0m\u001b[0mgreatest_value\u001b[0m\u001b[0;34m\u001b[0m\u001b[0;34m\u001b[0m\u001b[0m\n\u001b[1;32m     27\u001b[0m \u001b[0;34m\u001b[0m\u001b[0m\n\u001b[0;32m---> 28\u001b[0;31m \u001b[0mprint\u001b[0m\u001b[0;34m(\u001b[0m\u001b[0mmax\u001b[0m\u001b[0;34m(\u001b[0m\u001b[0mgreatest_value1\u001b[0m\u001b[0;34m)\u001b[0m\u001b[0;34m)\u001b[0m\u001b[0;34m\u001b[0m\u001b[0;34m\u001b[0m\u001b[0m\n\u001b[0m\u001b[1;32m     29\u001b[0m \u001b[0;34m\u001b[0m\u001b[0m\n\u001b[1;32m     30\u001b[0m \u001b[0;34m\u001b[0m\u001b[0m\n",
            "\u001b[0;31mTypeError\u001b[0m: 'int' object is not callable"
          ]
        }
      ],
      "source": [
        " # Your code here\n",
        "import pandas as pd\n",
        "Housing_details= pd.read_csv(\"/content/Assignment1_denton_housing.csv\")\n",
        "\n",
        "Occupied_housing= Housing_details[Housing_details[\"title_field\"]== \"Occupied Housing Units\"].sort_values(\"year\").set_index(\"year\")\n",
        "print(Occupied_housing)\n",
        "\n",
        "modified_Housingdetails= Occupied_housing[\"value\"].tolist()\n",
        "\n",
        "\n",
        "dif_list=[]\n",
        "i=0\n",
        "for i in range(len(modified_Housingdetails)-1):\n",
        "  difference=(modified_Housingdetails[i]-modified_Housingdetails[i+1])\n",
        "  dif_list.append(difference)\n",
        "\n",
        "print(\"The difference in value of occupied houses with respect to next year:\",dif_list)\n",
        "\n",
        "\n",
        "\n"
      ]
    },
    {
      "cell_type": "markdown",
      "source": [
        "# Mandatory Question\n",
        "\n",
        "Provide your thoughts on the assignment. What did you find challenging, and what aspects did you enjoy? Your opinion on the provided time to complete the assignment. Share any suggestions for improvement. Your feedback will be valuable for enhancing the learning experience."
      ],
      "metadata": {
        "id": "q8BFCvWp32cf"
      }
    },
    {
      "cell_type": "code",
      "source": [
        "# Write your response below\n",
        "#the last questions was challenging for me since I haven't got great knowledge on pandas. It really helped me understand where I stand and it was a great learning opportunity for me."
      ],
      "metadata": {
        "id": "_e557s2w4BpK"
      },
      "execution_count": 225,
      "outputs": []
    },
    {
      "cell_type": "code",
      "source": [],
      "metadata": {
        "id": "e0_xFOUQmEHl"
      },
      "execution_count": null,
      "outputs": []
    }
  ],
  "metadata": {
    "colab": {
      "provenance": [],
      "include_colab_link": true
    },
    "kernelspec": {
      "display_name": "Python 3 (ipykernel)",
      "language": "python",
      "name": "python3"
    },
    "language_info": {
      "codemirror_mode": {
        "name": "ipython",
        "version": 3
      },
      "file_extension": ".py",
      "mimetype": "text/x-python",
      "name": "python",
      "nbconvert_exporter": "python",
      "pygments_lexer": "ipython3",
      "version": "3.9.12"
    }
  },
  "nbformat": 4,
  "nbformat_minor": 0
}