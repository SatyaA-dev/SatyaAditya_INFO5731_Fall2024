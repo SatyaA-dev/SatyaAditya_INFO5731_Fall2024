{
  "cells": [
    {
      "cell_type": "markdown",
      "metadata": {
        "id": "view-in-github",
        "colab_type": "text"
      },
      "source": [
        "<a href=\"https://colab.research.google.com/github/SatyaA-dev/SatyaAditya_INFO5731_Fall2024/blob/main/Masimukku_SatyaAditya_Exercise_1.ipynb\" target=\"_parent\"><img src=\"https://colab.research.google.com/assets/colab-badge.svg\" alt=\"Open In Colab\"/></a>"
      ]
    },
    {
      "cell_type": "markdown",
      "metadata": {
        "id": "DymRJbxDBCnf"
      },
      "source": [
        "# **INFO5731 Exercise 1**\n",
        "\n",
        "This exercise covers a variety of fundamental concepts in Python and is designed to help students improve their coding skills and problem-solving abilities.\n",
        "\n",
        "**Expectations**:\n",
        "*   Students are expected to complete the exercise during lecture period to meet the active participation criteria of the course.\n",
        "*   Use the provided .*ipynb* document to write your code & respond to the questions. Avoid generating a new file.\n",
        "*   Write complete answers and run all the cells before submission.\n",
        "*   Make sure the submission is \"clean\"; *i.e.*, no unnecessary code cells.\n",
        "*   Once finished, allow shared rights from top right corner (*see Canvas for details*).\n",
        "\n",
        "**Total points**: 40\n",
        "\n",
        "**Deadline**: This in-class exercise is due at the end of the day tomorrow, at 11:59 PM.\n",
        "\n",
        "**Late submissions cannot be considered, and no requests will be answered. Manage your time accordingly.**\n"
      ]
    },
    {
      "cell_type": "markdown",
      "source": [
        "## Question 1\n",
        "Write a Python program that  prompts the user to input the length and width of a rectangle, and then calculates and displays the area of the rectangle."
      ],
      "metadata": {
        "id": "FBKvD6O_TY6e"
      }
    },
    {
      "cell_type": "code",
      "source": [
        "# write your answer here\n",
        "l=input(\"Enter the length of the rectangle:\")\n",
        "w=input(\"Enter the width of the rectangle:\")\n",
        "print(\"Area of the rectangle:\",int(l)*int(w))\n"
      ],
      "metadata": {
        "id": "cikVKDXdTbzE",
        "colab": {
          "base_uri": "https://localhost:8080/"
        },
        "outputId": "802a0198-5ebb-4431-eb28-601e23e486cd"
      },
      "execution_count": 14,
      "outputs": [
        {
          "output_type": "stream",
          "name": "stdout",
          "text": [
            "Enter the length of the rectangle:3\n",
            "Enter the width of the rectangle:67\n",
            "Area of the rectangle: 201\n"
          ]
        }
      ]
    },
    {
      "cell_type": "markdown",
      "source": [
        "## Question 2\n",
        "Create a Python program that interactively takes two numerical inputs from the user and swaps their values without utilizing an extra variable."
      ],
      "metadata": {
        "id": "E9RqrlwdTfvl"
      }
    },
    {
      "cell_type": "code",
      "source": [
        "# write your answer here\n",
        "n1 = input(\"Enter the first number:\")\n",
        "n2 = input(\"Enter the second number:\")\n",
        "print(\"\\nn1 before swapping:\",n1,\"\\nn2 before swapping:\",n2)\n",
        "n1, n2=n2, n1\n",
        "print(\"\\nn1 after swapping:\",n1,\"\\nn2 after swapping:\",n2)"
      ],
      "metadata": {
        "id": "4XvRknixTh1g",
        "colab": {
          "base_uri": "https://localhost:8080/"
        },
        "outputId": "2a9a4c8a-20d1-49a4-8602-00c01f5183a5"
      },
      "execution_count": 10,
      "outputs": [
        {
          "output_type": "stream",
          "name": "stdout",
          "text": [
            "Enter the first number:67\n",
            "Enter the second number:00\n",
            "\n",
            "n1 before swapping: 67 \n",
            "n2 before swapping: 00\n",
            "\n",
            "n1 after swapping: 00 \n",
            "n2 after swapping: 67\n"
          ]
        }
      ]
    },
    {
      "cell_type": "markdown",
      "metadata": {
        "id": "03jb4GZsBkBS"
      },
      "source": [
        "## Question 3\n",
        "Write a Python script to determine and print the length of a user-input string."
      ]
    },
    {
      "cell_type": "code",
      "execution_count": 13,
      "metadata": {
        "id": "YaGLbSHHB8Ej",
        "colab": {
          "base_uri": "https://localhost:8080/"
        },
        "outputId": "843dafb3-1c01-45ef-b76e-6955243c82c0"
      },
      "outputs": [
        {
          "output_type": "stream",
          "name": "stdout",
          "text": [
            "Enter the string:nqisaknk1\n",
            "length of the string: 9\n"
          ]
        }
      ],
      "source": [
        "# write your answer here\n",
        "s = input(\"Enter the string:\")\n",
        "print(\"length of the string:\",len(s))"
      ]
    },
    {
      "cell_type": "markdown",
      "metadata": {
        "id": "jJDe71iLB616"
      },
      "source": [
        "## Question 4\n",
        "Construct a Python program that counts and displays the occurrences of each character in a given string.\n",
        "\n",
        "Sample String: 'openai.ai',\n",
        "\n",
        "Expected Result: {'a': 2, 'i': 2, '.': 1, 'o': 1, 'p': 1, 'e': 1, 'n': 1}"
      ]
    },
    {
      "cell_type": "code",
      "execution_count": 52,
      "metadata": {
        "id": "MtKskTzbCLaU",
        "colab": {
          "base_uri": "https://localhost:8080/"
        },
        "outputId": "edf080bd-31be-4ba4-aab5-63993308122c"
      },
      "outputs": [
        {
          "output_type": "stream",
          "name": "stdout",
          "text": [
            "Enter the string\n",
            "Entered string:openai.ai\n",
            "{'o': 1, 'p': 1, 'e': 1, 'n': 1, 'a': 2, 'i': 2, '.': 1}\n"
          ]
        }
      ],
      "source": [
        "# write your answer here\n",
        "\n",
        "print(\"Enter the string\")\n",
        "str1 = input(\"Entered string:\")\n",
        "\n",
        "count = {}\n",
        "\n",
        "for s in str1:\n",
        "    if s in count:\n",
        "        count[s] += 1\n",
        "    else:\n",
        "        count[s] = 1\n",
        "print(count)\n",
        "\n"
      ]
    },
    {
      "cell_type": "markdown",
      "metadata": {
        "id": "55W9AMdXCSpV"
      },
      "source": [
        "## Question 5\n",
        "Design a Python code to calculate the sum of all elements in a user-provided list."
      ]
    },
    {
      "cell_type": "code",
      "execution_count": 55,
      "metadata": {
        "id": "I57NXsauCec2",
        "colab": {
          "base_uri": "https://localhost:8080/"
        },
        "outputId": "9e770a85-81d0-4c17-ab1a-0b3c41d51f68"
      },
      "outputs": [
        {
          "output_type": "stream",
          "name": "stdout",
          "text": [
            "Enter numbers separated by spaces: 1 2 3 4 5 6 7 8\n",
            "The sum of all elements in the list is: 36\n"
          ]
        }
      ],
      "source": [
        "def calculate_sum(user_list):\n",
        "    # Initialize a variable to store the sum of elements\n",
        "    total_sum = 0\n",
        "\n",
        "    # Iterate through each element in the list and add it to the total sum\n",
        "    for element in user_list:\n",
        "        total_sum += element\n",
        "\n",
        "    return total_sum\n",
        "\n",
        "# Example usage\n",
        "# User-provided list\n",
        "user_list = [int(x) for x in input(\"Enter numbers separated by spaces: \").split()]\n",
        "\n",
        "# Calculate the sum of the list elements\n",
        "sum_of_elements = calculate_sum(user_list)\n",
        "\n",
        "# Print the result\n",
        "print(f\"The sum of all elements in the list is: {sum_of_elements}\")\n"
      ]
    },
    {
      "cell_type": "markdown",
      "metadata": {
        "id": "4ulBZ6yhCi9F"
      },
      "source": [
        "## Question 6\n",
        "Write a Python program that modifies a given string by replacing all occurrences of its first character with '$', excluding the first character itself.\n",
        "\n",
        "\n",
        "Sample String : 'restart‘\n",
        "Expected Result : 'resta\\$t'"
      ]
    },
    {
      "cell_type": "code",
      "execution_count": 119,
      "metadata": {
        "id": "Fj0XhwbBCw2o",
        "colab": {
          "base_uri": "https://localhost:8080/"
        },
        "outputId": "9b9d90fb-7a29-49fa-e868-d1543ace9df2"
      },
      "outputs": [
        {
          "output_type": "stream",
          "name": "stdout",
          "text": [
            "Enter a string: kskjdikdjd\n",
            "Modified string: ks$jdi$djd\n"
          ]
        }
      ],
      "source": [
        "# write your answer here\n",
        "def replace_char(input_string):\n",
        "    # Get the first character of the string\n",
        "    first_char = input_string[0]\n",
        "\n",
        "    # Replace all occurrences of the first character with '$', excluding the first character itself\n",
        "    modified_string = first_char + input_string[1:].replace(first_char, '$')\n",
        "\n",
        "    return modified_string\n",
        "\n",
        "# Example usage\n",
        "input_string = input(\"Enter a string: \")\n",
        "\n",
        "# Modify the string\n",
        "modified_string = replace_char(input_string)\n",
        "\n",
        "# Print the modified string\n",
        "print(f\"Modified string: {modified_string}\")\n"
      ]
    },
    {
      "cell_type": "markdown",
      "source": [
        "## Question 7\n",
        "Write a Python program using a while loop to compute the factorial of a user-supplied number."
      ],
      "metadata": {
        "id": "qVXA3q7ET5JI"
      }
    },
    {
      "cell_type": "code",
      "source": [
        "# write your answer here\n",
        "n3 = input(\"Enter the number\")\n",
        "Fact=1\n",
        "i = len(n3)\n",
        "while i > 1:\n",
        "  Fact = Fact*(int(n3)%10)\n",
        "  n3 = int(n3)/10\n",
        "  i=i-1\n",
        "\n",
        "print(Fact)"
      ],
      "metadata": {
        "id": "Lbt7R6UkT7BA",
        "colab": {
          "base_uri": "https://localhost:8080/"
        },
        "outputId": "d9fe86de-cc4e-4ac2-fb68-dbd8252992a0"
      },
      "execution_count": 74,
      "outputs": [
        {
          "output_type": "stream",
          "name": "stdout",
          "text": [
            "Enter the number1234\n",
            "24\n"
          ]
        }
      ]
    },
    {
      "cell_type": "markdown",
      "source": [
        "## Question 8\n",
        "Create a program that accepts a list of numbers as input and outputs a new list containing only the even numbers."
      ],
      "metadata": {
        "id": "6YfbzXMNT--R"
      }
    },
    {
      "cell_type": "code",
      "source": [
        "# write your answer here\n",
        "def filter_even_numbers(user_list):\n",
        "    # Initialize an empty list to store even numbers\n",
        "    even_numbers = []\n",
        "\n",
        "    # Iterate through each element in the list\n",
        "    for number in user_list:\n",
        "        # Check if the number is even\n",
        "        if number % 2 == 0:\n",
        "            even_numbers.append(number)\n",
        "\n",
        "    return even_numbers\n",
        "\n",
        "# Example usage\n",
        "# User-provided list\n",
        "user_list = [int(x) for x in input(\"Enter numbers separated by spaces: \").split()]\n",
        "\n",
        "# Filter the even numbers\n",
        "even_numbers_list = filter_even_numbers(user_list)\n",
        "\n",
        "# Print the result\n",
        "print(f\"The even numbers in the list are: {even_numbers_list}\")\n",
        "\n"
      ],
      "metadata": {
        "id": "54q7wMQPUAKu",
        "colab": {
          "base_uri": "https://localhost:8080/"
        },
        "outputId": "82cd7b3c-44e9-42b6-eeec-c4cb54db4cb8"
      },
      "execution_count": 75,
      "outputs": [
        {
          "output_type": "stream",
          "name": "stdout",
          "text": [
            "Enter numbers separated by spaces: 2 3 4 5 55 \n",
            "The even numbers in the list are: [2, 4]\n"
          ]
        }
      ]
    },
    {
      "cell_type": "markdown",
      "metadata": {
        "id": "_bIP7s1MCzue"
      },
      "source": [
        "## Question 9\n",
        "Design a Python function to check if a number is prime.\n"
      ]
    },
    {
      "cell_type": "code",
      "execution_count": 82,
      "metadata": {
        "id": "w79QilHXD3Mg",
        "colab": {
          "base_uri": "https://localhost:8080/"
        },
        "outputId": "80606f05-772d-4ee9-87d3-37068924e730"
      },
      "outputs": [
        {
          "output_type": "stream",
          "name": "stdout",
          "text": [
            "Enter a number to check if it is prime: 11\n",
            "11 is a prime number.\n"
          ]
        }
      ],
      "source": [
        "def is_prime(number):\n",
        "    # Check if the number is less than 2\n",
        "    if number < 2:\n",
        "        return False\n",
        "\n",
        "    # Check for factors from 2 to the square root of the number\n",
        "    for i in range(2, int(number ** 0.5) + 1):\n",
        "        if number % i == 0:\n",
        "            return False\n",
        "\n",
        "    # If no factors are found, the number is prime\n",
        "    return True\n",
        "\n",
        "# Example usage\n",
        "num = int(input(\"Enter a number to check if it is prime: \"))\n",
        "\n",
        "# Check if the number is prime and print the result\n",
        "if is_prime(num):\n",
        "    print(f\"{num} is a prime number.\")\n",
        "else:\n",
        "    print(f\"{num} is not a prime number.\")\n"
      ]
    },
    {
      "cell_type": "markdown",
      "metadata": {
        "id": "xCa2bK9aD4Q3"
      },
      "source": [
        "## Question 10\n",
        "Write a Python program to concatenate following dictionaries to create a new one.\n",
        "\n",
        "Sample Dictionary : dic1={1:10, 2:20}, dic2={3:30, 4:40}, dic3={5:50,6:60},\n",
        "\n",
        "Expected Result : {1: 10, 2: 20, 3: 30, 4: 40, 5: 50, 6: 60}\n"
      ]
    },
    {
      "cell_type": "code",
      "execution_count": 83,
      "metadata": {
        "id": "_z4aLqAbEET1",
        "colab": {
          "base_uri": "https://localhost:8080/"
        },
        "outputId": "d862036d-94bb-48f1-f535-01a542c43182"
      },
      "outputs": [
        {
          "output_type": "stream",
          "name": "stdout",
          "text": [
            "Concatenated Dictionary: {1: 10, 2: 20, 3: 30, 4: 40, 5: 50, 6: 60}\n"
          ]
        }
      ],
      "source": [
        "# write your answer here\n",
        "def concatenate_dictionaries(*dicts):\n",
        "    # Initialize an empty dictionary to store the result\n",
        "    result = {}\n",
        "\n",
        "    # Iterate through each dictionary passed as arguments\n",
        "    for dictionary in dicts:\n",
        "        # Update the result dictionary with the key-value pairs from the current dictionary\n",
        "        result.update(dictionary)\n",
        "\n",
        "    return result\n",
        "\n",
        "# Sample dictionaries\n",
        "dic1 = {1: 10, 2: 20}\n",
        "dic2 = {3: 30, 4: 40}\n",
        "dic3 = {5: 50, 6: 60}\n",
        "\n",
        "# Concatenate the dictionaries\n",
        "result = concatenate_dictionaries(dic1, dic2, dic3)\n",
        "\n",
        "# Print the result\n",
        "print(\"Concatenated Dictionary:\", result)\n"
      ]
    },
    {
      "cell_type": "markdown",
      "source": [
        "## Question 11\n",
        "Design a Python function that takes a tuple of integers as input and returns the largest and smallest elements."
      ],
      "metadata": {
        "id": "bkyZ2xSZUOst"
      }
    },
    {
      "cell_type": "code",
      "source": [
        "# write your answer here\n",
        "user_tuple = tuple((int(x) for x in input(\"Enter numbers separated by spaces: \").split()))\n",
        "print (\"The input tuple is: \",user_tuple)\n",
        "\n",
        "largest_element = max(user_tuple)\n",
        "smallest_element = min(user_tuple)\n",
        "\n",
        "print(\"The largest number in the given tuple is {}, and the smallest number is {}\".format(largest_element,smallest_element))"
      ],
      "metadata": {
        "id": "3FdLRBKOUQEd",
        "colab": {
          "base_uri": "https://localhost:8080/"
        },
        "outputId": "bd6d5c55-7d9e-476a-aabb-cee290400fde"
      },
      "execution_count": 95,
      "outputs": [
        {
          "output_type": "stream",
          "name": "stdout",
          "text": [
            "Enter numbers separated by spaces: 13 43 46 76 84 25 234\n",
            "The input tuple is:  (13, 43, 46, 76, 84, 25, 234)\n",
            "The largest number in the given tuple is 234, and the smallest number is 13\n"
          ]
        }
      ]
    },
    {
      "cell_type": "markdown",
      "source": [
        "## Question 12\n",
        "Write a Python program that counts the frequency of each character in a given string and stores it in a dictionary."
      ],
      "metadata": {
        "id": "O0TVi3gKUTpp"
      }
    },
    {
      "cell_type": "code",
      "source": [
        "# write your answer here\n",
        "print(\"Enter the string\")\n",
        "str1 = input(\"Entered string:\")\n",
        "\n",
        "count = {}\n",
        "\n",
        "for s in str1:\n",
        "    if s in count:\n",
        "        count[s] += 1\n",
        "    else:\n",
        "        count[s] = 1\n",
        "print(count)"
      ],
      "metadata": {
        "id": "lAtfSfZXUU-h",
        "colab": {
          "base_uri": "https://localhost:8080/"
        },
        "outputId": "c21b108b-4273-4b7f-a47a-6e4104201efc"
      },
      "execution_count": 96,
      "outputs": [
        {
          "output_type": "stream",
          "name": "stdout",
          "text": [
            "Enter the string\n",
            "Entered string:xfujyvoukbpouv\n",
            "{'x': 1, 'f': 1, 'u': 3, 'j': 1, 'y': 1, 'v': 2, 'o': 2, 'k': 1, 'b': 1, 'p': 1}\n"
          ]
        }
      ]
    },
    {
      "cell_type": "markdown",
      "metadata": {
        "id": "0v48Vqa7FrQh"
      },
      "source": [
        "## Question 13\n",
        "Implement a Python script to identify duplicate elements in a provided array of integers. Return -1 if there are no duplicates."
      ]
    },
    {
      "cell_type": "code",
      "execution_count": 97,
      "metadata": {
        "id": "7WEmgq-DF2P1",
        "colab": {
          "base_uri": "https://localhost:8080/"
        },
        "outputId": "58f632a8-ea10-4676-f812-5ef36959a881"
      },
      "outputs": [
        {
          "output_type": "stream",
          "name": "stdout",
          "text": [
            "Enter integers separated by spaces: 1 2 3 4 5 6 6\n",
            "Duplicate elements found: [6]\n"
          ]
        }
      ],
      "source": [
        "# write your answer here\n",
        "def find_duplicates(arr):\n",
        "    # Create a set to store unique elements\n",
        "    seen = set()\n",
        "    # Create a set to store duplicates\n",
        "    duplicates = set()\n",
        "\n",
        "    # Iterate through the array\n",
        "    for num in arr:\n",
        "        if num in seen:\n",
        "            duplicates.add(num)\n",
        "        else:\n",
        "            seen.add(num)\n",
        "\n",
        "    # If duplicates set is empty, return -1\n",
        "    if not duplicates:\n",
        "        return -1\n",
        "    else:\n",
        "        return list(duplicates)\n",
        "\n",
        "# Example usage\n",
        "user_input = input(\"Enter integers separated by spaces: \")\n",
        "arr = [int(x) for x in user_input.split()]\n",
        "\n",
        "# Find duplicates in the array\n",
        "result = find_duplicates(arr)\n",
        "\n",
        "if result == -1:\n",
        "    print(\"No duplicates found.\")\n",
        "else:\n",
        "    print(f\"Duplicate elements found: {result}\")\n"
      ]
    },
    {
      "cell_type": "markdown",
      "metadata": {
        "id": "vD5PYLMuGga_"
      },
      "source": [
        "## Question 14\n",
        "Write a Python script to find the common elements between two lists."
      ]
    },
    {
      "cell_type": "code",
      "execution_count": 100,
      "metadata": {
        "id": "t0D5kdJUGjjw",
        "colab": {
          "base_uri": "https://localhost:8080/"
        },
        "outputId": "f729576a-44a9-43e7-b947-6c8caba119e5"
      },
      "outputs": [
        {
          "output_type": "stream",
          "name": "stdout",
          "text": [
            "Enter numbers separated by spaces: 1 2 3 4 5 6\n",
            "Enter numbers separated by spaces: 2 3 4 5 6 7\n",
            "{2, 3, 4, 5, 6}\n"
          ]
        }
      ],
      "source": [
        "# write your answer here\n",
        "set1= set(int(x) for x in input(\"Enter numbers separated by spaces: \").split())\n",
        "set2= set(int(y) for y in input(\"Enter numbers separated by spaces: \").split())\n",
        "\n",
        "common_elements = set1.intersection(set2)\n",
        "\n",
        "print(common_elements)"
      ]
    },
    {
      "cell_type": "markdown",
      "metadata": {
        "id": "uHkd-y5VhVWC"
      },
      "source": [
        "## Question 15\n",
        "Write a Python program to randomly divide the students in this class into maximum of eight groups for term projects, each group should have at least 4 students but no more than 6 students (including 6).\n",
        "\n",
        "Here is the students list:\n",
        "\n",
        "student_list_spring_2024=[rb0846,\n",
        "ac1964,\n",
        "hc0612,\n",
        "md0912,\n",
        "ad1198,\n",
        "md0894,\n",
        "md0825,\n",
        "vg0598,\n",
        "vg0433,\n",
        "mh1068,\n",
        "yj0173,\n",
        "pk0553,\n",
        "tk0411,\n",
        "srk0204,\n",
        "sk2922,\n",
        "sk2936,\n",
        "mk1302,\n",
        "mk1317,\n",
        "tk0412,\n",
        "vk0656,\n",
        "sm2985,\n",
        "mm2372,\n",
        "un0045,\n",
        "an0892,\n",
        "sn0913,\n",
        "gp0252,\n",
        "ap1484,\n",
        "mr1765,\n",
        "sr1385,\n",
        "sr1335,\n",
        "hs0665,\n",
        "ms2060,\n",
        "gt0217,\n",
        "nt0385,\n",
        "tv0186,\n",
        "sv1394,\n",
        "sv1752,\n",
        "sv1555,\n",
        "sy0594\n",
        "]\n"
      ]
    },
    {
      "cell_type": "code",
      "execution_count": 105,
      "metadata": {
        "id": "3iGbmcOBhTwy",
        "colab": {
          "base_uri": "https://localhost:8080/"
        },
        "outputId": "2f625dcd-28a9-4f5c-d7ed-adb992ec06f4"
      },
      "outputs": [
        {
          "output_type": "stream",
          "name": "stdout",
          "text": [
            "Group 1: ['sy0594', 'tk0411', 'sk2922', 'sv1752', 'mh1068', 'vk0656']\n",
            "Group 2: ['hc0612', 'pk0553', 'md0912', 'un0045', 'sn0913', 'sv1555']\n",
            "Group 3: ['tk0412', 'srk0204', 'sk2936', 'md0825', 'ms2060', 'nt0385']\n",
            "Group 4: ['sr1385', 'ac1964', 'tv0186', 'mr1765']\n",
            "Group 5: ['yj0173', 'hs0665', 'mk1302', 'ap1484', 'rb0846']\n",
            "Group 6: ['gp0252', 'an0892', 'vg0433', 'ad1198']\n",
            "Group 7: ['gt0217', 'mm2372', 'vg0598', 'sr1335']\n",
            "Group 8: ['sv1394', 'md0894', 'mk1317', 'sm2985']\n"
          ]
        }
      ],
      "source": [
        "# write your answer here\n",
        "import random\n",
        "\n",
        "def divide_students(student_list, max_groups=8, min_group_size=4, max_group_size=6):\n",
        "    # Shuffle the student list to ensure randomness\n",
        "    random.shuffle(student_list)\n",
        "\n",
        "    # Calculate the total number of students\n",
        "    total_students = len(student_list)\n",
        "\n",
        "    # Calculate the maximum number of groups based on constraints\n",
        "    num_groups = min(max_groups, (total_students + min_group_size - 1) // min_group_size)\n",
        "\n",
        "    # Create a list to store the groups\n",
        "    groups = []\n",
        "\n",
        "    # Create groups\n",
        "    start = 0\n",
        "    for _ in range(num_groups):\n",
        "        # Calculate the size of the current group\n",
        "        remaining_students = total_students - start\n",
        "        max_size = min(max_group_size, remaining_students)\n",
        "        min_size = min_group_size\n",
        "        size = random.randint(min_size, max_size)\n",
        "\n",
        "        # Ensure the last group has enough students if possible\n",
        "        if remaining_students - size < min_size and len(groups) < num_groups - 1:\n",
        "            size = remaining_students\n",
        "\n",
        "        # Create the group and add it to the list\n",
        "        group = student_list[start:start + size]\n",
        "        groups.append(group)\n",
        "\n",
        "        # Move to the next slice of students\n",
        "        start += size\n",
        "\n",
        "    return groups\n",
        "\n",
        "# List of students\n",
        "student_list_spring_2024 = [\n",
        "    'rb0846', 'ac1964', 'hc0612', 'md0912', 'ad1198', 'md0894', 'md0825', 'vg0598', 'vg0433', 'mh1068',\n",
        "    'yj0173', 'pk0553', 'tk0411', 'srk0204', 'sk2922', 'sk2936', 'mk1302', 'mk1317', 'tk0412', 'vk0656',\n",
        "    'sm2985', 'mm2372', 'un0045', 'an0892', 'sn0913', 'gp0252', 'ap1484', 'mr1765', 'sr1385', 'sr1335',\n",
        "    'hs0665', 'ms2060', 'gt0217', 'nt0385', 'tv0186', 'sv1394', 'sv1752', 'sv1555', 'sy0594'\n",
        "]\n",
        "\n",
        "# Divide students into groups\n",
        "groups = divide_students(student_list_spring_2024)\n",
        "\n",
        "# Print the groups\n",
        "for i, group in enumerate(groups, 1):\n",
        "    print(f\"Group {i}: {group}\")\n",
        "\n"
      ]
    },
    {
      "cell_type": "markdown",
      "metadata": {
        "id": "fmZ9vX20Qs3d"
      },
      "source": [
        "## Question 16\n",
        "Create a program that takes a positive integer 'n' as input and prints the count of even numbers from 1 to 'n'. Optimize the loop using the continue statement."
      ]
    },
    {
      "cell_type": "code",
      "execution_count": 118,
      "metadata": {
        "id": "W8Jw6sWMQs3d",
        "colab": {
          "base_uri": "https://localhost:8080/"
        },
        "outputId": "6528d233-4480-4680-86db-59f724e698fc"
      },
      "outputs": [
        {
          "output_type": "stream",
          "name": "stdout",
          "text": [
            "Enter a positive integer: 55\n",
            "The count of even numbers from 1 to 55 is: 27\n"
          ]
        }
      ],
      "source": [
        "# write your answer here\n",
        "def count_even_numbers(n):\n",
        "    even_count = 0\n",
        "\n",
        "    for i in range(1, n + 1):\n",
        "        # If the number is odd, skip the rest of the loop and continue to the next iteration\n",
        "        if i % 2 != 0:\n",
        "            continue\n",
        "\n",
        "        # If the number is even, increment the count\n",
        "        even_count += 1\n",
        "\n",
        "    return even_count\n",
        "\n",
        "# Prompt the user to enter a positive integer\n",
        "try:\n",
        "    n = int(input(\"Enter a positive integer: \"))\n",
        "\n",
        "    if n <= 0:\n",
        "        print(\"Please enter a positive integer greater than 0.\")\n",
        "    else:\n",
        "        # Calculate and print the count of even numbers from 1 to n\n",
        "        even_count = count_even_numbers(n)\n",
        "        print(f\"The count of even numbers from 1 to {n} is: {even_count}\")\n",
        "\n",
        "except ValueError:\n",
        "    print(\"Please enter a valid integer.\")\n"
      ]
    },
    {
      "cell_type": "markdown",
      "metadata": {
        "id": "hvq4APMhQs3d"
      },
      "source": [
        "## Question 17\n",
        "Develop a Python function called 'count_vowels' that takes a string as input and returns the count of vowels (both lowercase and uppercase) present in the string, ignoring spaces and non-alphabetic characters."
      ]
    },
    {
      "cell_type": "code",
      "execution_count": 111,
      "metadata": {
        "id": "ZnoxhSglQs3d",
        "colab": {
          "base_uri": "https://localhost:8080/"
        },
        "outputId": "6df60022-c90b-4439-c155-1a56df3930a0"
      },
      "outputs": [
        {
          "output_type": "stream",
          "name": "stdout",
          "text": [
            "Enter a string: kdslnvodifADAJIJ\n",
            "The number of vowels in the string is: 5\n"
          ]
        }
      ],
      "source": [
        "def count_vowels(input_string):\n",
        "    # Define a set of vowels\n",
        "    vowels = set(\"aeiouAEIOU\")\n",
        "\n",
        "    # Initialize a counter for vowels\n",
        "    vowel_count = 0\n",
        "\n",
        "    # Iterate through each character in the string\n",
        "    for char in input_string:\n",
        "        # Check if the character is a vowel\n",
        "        if char in vowels:\n",
        "            vowel_count += 1\n",
        "\n",
        "    return vowel_count\n",
        "\n",
        "# Example usage\n",
        "input_string = input(\"Enter a string: \")\n",
        "\n",
        "# Count vowels in the input string\n",
        "vowel_count = count_vowels(input_string)\n",
        "\n",
        "# Print the result\n",
        "print(f\"The number of vowels in the string is: {vowel_count}\")\n"
      ]
    },
    {
      "cell_type": "markdown",
      "source": [
        "## Question 18\n",
        "Create a custom exception named ValueTooSmallError in Python. Write a program that takes user input for an age, and if the entered age is less than 18, raise the ValueTooSmallError with an appropriate error message."
      ],
      "metadata": {
        "id": "55FWoSJPVVM6"
      }
    },
    {
      "cell_type": "code",
      "source": [
        "# write your answer here\n",
        "# Define the custom exception\n",
        "class ValueTooSmallError(Exception):\n",
        "    def __init__(self, message=\"Age is less than 18, which is not allowed.\"):\n",
        "        self.message = message\n",
        "        super().__init__(self.message)\n",
        "\n",
        "# Function to check the age\n",
        "def check_age(age):\n",
        "    if age < 18:\n",
        "        raise ValueTooSmallError(f\"Entered age {age} is too small. Age must be 18 or above.\")\n",
        "    else:\n",
        "        print(\"Age is valid.\")\n",
        "\n",
        "# Example usage\n",
        "try:\n",
        "    # Take user input for age\n",
        "    age = int(input(\"Enter your age: \"))\n",
        "\n",
        "    # Check if the age is valid\n",
        "    check_age(age)\n",
        "\n",
        "except ValueTooSmallError as e:\n",
        "    # Handle the custom exception\n",
        "    print(e)\n",
        "\n",
        "except ValueError:\n",
        "    # Handle non-integer inputs\n",
        "    print(\"Please enter a valid integer for age.\")\n",
        "\n"
      ],
      "metadata": {
        "id": "hwtr1wZmVX5A",
        "colab": {
          "base_uri": "https://localhost:8080/"
        },
        "outputId": "59994b50-3376-43ee-f365-abf862c04e2e"
      },
      "execution_count": 112,
      "outputs": [
        {
          "output_type": "stream",
          "name": "stdout",
          "text": [
            "Enter your age: 9\n",
            "Entered age 9 is too small. Age must be 18 or above.\n"
          ]
        }
      ]
    },
    {
      "cell_type": "markdown",
      "source": [
        "## Question 19\n",
        "Develop a script that reverses a given string without using built-in reverse functions."
      ],
      "metadata": {
        "id": "Q9ecagcaVazW"
      }
    },
    {
      "cell_type": "code",
      "source": [
        "# write your answer here\n",
        "def reverse_string(input_string):\n",
        "    # Initialize an empty string to store the reversed string\n",
        "    reversed_string = \"\"\n",
        "\n",
        "    # Iterate over the input string from the last character to the first\n",
        "    for i in range(len(input_string) - 1, -1, -1):\n",
        "        reversed_string += input_string[i]\n",
        "\n",
        "    return reversed_string\n",
        "\n",
        "# Example usage\n",
        "input_string = input(\"Enter a string to reverse: \")\n",
        "\n",
        "# Reverse the string\n",
        "reversed_string = reverse_string(input_string)\n",
        "\n",
        "# Print the result\n",
        "print(f\"Reversed string: {reversed_string}\")\n"
      ],
      "metadata": {
        "id": "gycgckoAVZjR",
        "colab": {
          "base_uri": "https://localhost:8080/"
        },
        "outputId": "2af2b931-825e-4e02-dcf7-79fb62a65c74"
      },
      "execution_count": 113,
      "outputs": [
        {
          "output_type": "stream",
          "name": "stdout",
          "text": [
            "Enter a string to reverse: kajsujsjjs\n",
            "Reversed string: sjjsjusjak\n"
          ]
        }
      ]
    },
    {
      "cell_type": "markdown",
      "source": [
        "## Question 20\n",
        "Implement a Python script to generate a random password of a specified length."
      ],
      "metadata": {
        "id": "ZFG6RibifMLu"
      }
    },
    {
      "cell_type": "code",
      "source": [
        "# write your answer here\n",
        "import random\n",
        "import string\n",
        "\n",
        "def generate_random_password(length):\n",
        "    # Define the character set: lowercase, uppercase, digits, and punctuation\n",
        "    characters = string.ascii_letters + string.digits + string.punctuation\n",
        "\n",
        "    # Generate a random password by selecting random characters from the set\n",
        "    password = ''.join(random.choice(characters) for _ in range(length))\n",
        "\n",
        "    return password\n",
        "\n",
        "# Example usage\n",
        "try:\n",
        "    # Get the desired length of the password from the user\n",
        "    length = int(input(\"Enter the desired length of the password: \"))\n",
        "\n",
        "    # Ensure the length is positive\n",
        "    if length <= 0:\n",
        "        print(\"Password length must be greater than 0.\")\n",
        "    else:\n",
        "        # Generate the random password\n",
        "        random_password = generate_random_password(length)\n",
        "\n",
        "        # Print the generated password\n",
        "        print(f\"Generated password: {random_password}\")\n",
        "except ValueError:\n",
        "    print(\"Please enter a valid integer for the password length.\")\n"
      ],
      "metadata": {
        "id": "BFVrkEi9fNiD",
        "colab": {
          "base_uri": "https://localhost:8080/"
        },
        "outputId": "21224e79-7582-48a6-f218-6dbd58ced743"
      },
      "execution_count": 115,
      "outputs": [
        {
          "output_type": "stream",
          "name": "stdout",
          "text": [
            "Enter the desired length of the password: 23\n",
            "Generated password: {b)`JMCH<cp.5Bx4kz?^(><\n"
          ]
        }
      ]
    },
    {
      "cell_type": "markdown",
      "source": [
        "# Try these questions"
      ],
      "metadata": {
        "id": "6SmvS7nSfbj8"
      }
    },
    {
      "cell_type": "markdown",
      "source": [
        "(21) Define a base class called 'Vehicle' with attributes make and model. Create a derived class Car that inherits from Vehicle and has an additional attribute 'num_doors'. Demonstrate an example of creating an instance of the 'Car' class and accessing its attributes."
      ],
      "metadata": {
        "id": "cboAr5pEWUf5"
      }
    },
    {
      "cell_type": "code",
      "source": [
        "# write your answer here\n",
        "# Define the base class 'Vehicle'\n",
        "class Vehicle:\n",
        "    def __init__(self, make, model):\n",
        "        self.make = make\n",
        "        self.model = model\n",
        "\n",
        "# Define the derived class 'Car' that inherits from 'Vehicle'\n",
        "class Car(Vehicle):\n",
        "    def __init__(self, make, model, num_doors):\n",
        "        # Initialize the base class attributes using super()\n",
        "        super().__init__(make, model)\n",
        "        # Initialize the additional attribute 'num_doors'\n",
        "        self.num_doors = num_doors\n",
        "\n",
        "# Example of creating an instance of the 'Car' class\n",
        "my_car = Car(\"Toyota\", \"Camry\", 4)\n",
        "\n",
        "# Accessing and printing the attributes of the 'Car' instance\n",
        "print(f\"Make: {my_car.make}\")\n",
        "print(f\"Model: {my_car.model}\")\n",
        "print(f\"Number of Doors: {my_car.num_doors}\")\n"
      ],
      "metadata": {
        "id": "phs9gciMWWAW",
        "colab": {
          "base_uri": "https://localhost:8080/"
        },
        "outputId": "4782ee1b-fde4-4796-fe54-ac3628c25272"
      },
      "execution_count": 116,
      "outputs": [
        {
          "output_type": "stream",
          "name": "stdout",
          "text": [
            "Make: Toyota\n",
            "Model: Camry\n",
            "Number of Doors: 4\n"
          ]
        }
      ]
    },
    {
      "cell_type": "markdown",
      "source": [
        "(22) Create a class called 'Shape' with a method calculate_area(). Implement two derived classes 'Circle' and 'Rectangle' that inherit from Shape and override the calculate_area() method. Demonstrate polymorphism by creating instances of both derived classes and calling the calculate_area() method."
      ],
      "metadata": {
        "id": "J8HHefNtePwd"
      }
    },
    {
      "cell_type": "code",
      "source": [
        "# write your answer here\n",
        "import math\n",
        "\n",
        "# Define the base class 'Shape'\n",
        "class Shape:\n",
        "    def calculate_area(self):\n",
        "        # This method will be overridden in the derived classes\n",
        "        raise NotImplementedError(\"Subclasses must override this method.\")\n",
        "\n",
        "# Define the derived class 'Circle' that inherits from 'Shape'\n",
        "class Circle(Shape):\n",
        "    def __init__(self, radius):\n",
        "        self.radius = radius\n",
        "\n",
        "    # Override the calculate_area() method\n",
        "    def calculate_area(self):\n",
        "        return math.pi * self.radius ** 2\n",
        "\n",
        "# Define the derived class 'Rectangle' that inherits from 'Shape'\n",
        "class Rectangle(Shape):\n",
        "    def __init__(self, width, height):\n",
        "        self.width = width\n",
        "        self.height = height\n",
        "\n",
        "    # Override the calculate_area() method\n",
        "    def calculate_area(self):\n",
        "        return self.width * self.height\n",
        "\n",
        "# Demonstrate polymorphism\n",
        "def print_area(shape):\n",
        "    print(f\"The area of the shape is: {shape.calculate_area()}\")\n",
        "\n",
        "# Create instances of\n"
      ],
      "metadata": {
        "id": "btnMmUZDeRhS"
      },
      "execution_count": null,
      "outputs": []
    },
    {
      "cell_type": "markdown",
      "source": [
        "(23) Write a Python program that prompts the user to enter two numbers and perform a division operation. Handle exceptions for both zero division and invalid input (non-numeric input). Display appropriate error messages for each type of exception and ensure the program does not crash due to these errors."
      ],
      "metadata": {
        "id": "z0oqEAlTeMUS"
      }
    },
    {
      "cell_type": "code",
      "source": [
        "# write your answer here\n",
        "def divide_numbers():\n",
        "    try:\n",
        "        # Prompt the user to enter the first number\n",
        "        num1 = float(input(\"Enter the first number: \"))\n",
        "\n",
        "        # Prompt the user to enter the second number\n",
        "        num2 = float(input(\"Enter the second number: \"))\n",
        "\n",
        "        # Perform the division operation\n",
        "        result = num1 / num2\n",
        "\n",
        "    except ZeroDivisionError:\n",
        "        # Handle division by zero\n",
        "        print(\"Error: Division by zero is not allowed.\")\n",
        "\n",
        "    except ValueError:\n",
        "        # Handle invalid input (non-numeric input)\n",
        "        print(\"Error: Please enter valid numbers.\")\n",
        "\n",
        "    else:\n",
        "        # If no exception occurs, print the result\n",
        "        print(f\"The result of the division is: {result}\")\n",
        "\n",
        "    finally:\n",
        "        print(\"Division operation completed.\")\n",
        "\n",
        "# Call the function to perform the division\n",
        "divide_numbers()\n"
      ],
      "metadata": {
        "id": "yjdc1zM1eMAs",
        "colab": {
          "base_uri": "https://localhost:8080/"
        },
        "outputId": "5a567eef-f7fd-4f73-a7fd-fceb154e5102"
      },
      "execution_count": 117,
      "outputs": [
        {
          "output_type": "stream",
          "name": "stdout",
          "text": [
            "Enter the first number: 234\n",
            "Enter the second number: 2323\n",
            "The result of the division is: 0.10073181231166595\n",
            "Division operation completed.\n"
          ]
        }
      ]
    },
    {
      "cell_type": "markdown",
      "source": [
        "# Mandatory Question"
      ],
      "metadata": {
        "id": "sZOhks1dXWEe"
      }
    },
    {
      "cell_type": "markdown",
      "source": [
        "**Important:**\n",
        "Reflecting on the first three lectures and the exercises you've completed, please provide feedback on your learning experience. Share your thoughts on whether the material covered was clear, the exercises were helpful, and if you feel more confident in applying Python programming concepts. Additionally, mention any specific areas where you would like more clarification or topics you would like to explore further in future lectures. Your feedback is valuable in shaping the course for an effective learning journey."
      ],
      "metadata": {
        "id": "eqmHVEwaWhbV"
      }
    },
    {
      "cell_type": "code",
      "source": [
        "'''\n",
        "All the models and concepts covered so are clearly understood. But, I personally require a little practice to be proficient in them. The exercises cover many topics related to python such as .format for print statements, user defined functions, iterations, loops etc. On the whole its been really good going thorugh the course.\n",
        "'''"
      ],
      "metadata": {
        "id": "akAVJn9YBTQT"
      },
      "execution_count": null,
      "outputs": []
    }
  ],
  "metadata": {
    "colab": {
      "provenance": [],
      "collapsed_sections": [
        "FBKvD6O_TY6e",
        "E9RqrlwdTfvl",
        "03jb4GZsBkBS",
        "jJDe71iLB616",
        "55W9AMdXCSpV",
        "4ulBZ6yhCi9F",
        "6SmvS7nSfbj8",
        "sZOhks1dXWEe"
      ],
      "toc_visible": true,
      "include_colab_link": true
    },
    "kernelspec": {
      "display_name": "Python 3 (ipykernel)",
      "language": "python",
      "name": "python3"
    },
    "language_info": {
      "codemirror_mode": {
        "name": "ipython",
        "version": 3
      },
      "file_extension": ".py",
      "mimetype": "text/x-python",
      "name": "python",
      "nbconvert_exporter": "python",
      "pygments_lexer": "ipython3",
      "version": "3.9.12"
    }
  },
  "nbformat": 4,
  "nbformat_minor": 0
}